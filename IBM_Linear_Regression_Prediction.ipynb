{
  "nbformat": 4,
  "nbformat_minor": 0,
  "metadata": {
    "colab": {
      "name": "IBM_Linear_Regression_Prediction.ipynb",
      "provenance": [],
      "collapsed_sections": [],
      "authorship_tag": "ABX9TyPYCs7gklS0+kIc56vOiPcL",
      "include_colab_link": true
    },
    "kernelspec": {
      "name": "python3",
      "display_name": "Python 3"
    },
    "language_info": {
      "name": "python"
    }
  },
  "cells": [
    {
      "cell_type": "markdown",
      "metadata": {
        "id": "view-in-github",
        "colab_type": "text"
      },
      "source": [
        "<a href=\"https://colab.research.google.com/github/prievarag/Time_Series_Linear_Regression_IBM/blob/main/IBM_Linear_Regression_Prediction.ipynb\" target=\"_parent\"><img src=\"https://colab.research.google.com/assets/colab-badge.svg\" alt=\"Open In Colab\"/></a>"
      ]
    },
    {
      "cell_type": "code",
      "execution_count": 31,
      "metadata": {
        "id": "25a6fL8lfpkc"
      },
      "outputs": [],
      "source": [
        "# Using free data: IBM Daily Adjusted Stock Time Series from Alpha Vantage"
      ]
    },
    {
      "cell_type": "code",
      "source": [
        "# Description: predicting future price of IBM stock"
      ],
      "metadata": {
        "id": "WAqOn7mZgx_X"
      },
      "execution_count": 32,
      "outputs": []
    },
    {
      "cell_type": "code",
      "source": [
        "# Importing the libraries\n",
        "import pandas as pd\n",
        "import numpy as np\n",
        "import matplotlib.pyplot as plt\n",
        "import seaborn as sns\n",
        "from sklearn.linear_model import LinearRegression\n",
        "from sklearn.metrics import r2_score"
      ],
      "metadata": {
        "id": "4GggA_yYhb-Q"
      },
      "execution_count": 33,
      "outputs": []
    },
    {
      "cell_type": "code",
      "source": [
        "# Import the data\n",
        "from google.colab import files\n",
        "files.upload()"
      ],
      "metadata": {
        "colab": {
          "resources": {
            "http://localhost:8080/nbextensions/google.colab/files.js": {
              "data": "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",
              "ok": true,
              "headers": [
                [
                  "content-type",
                  "application/javascript"
                ]
              ],
              "status": 200,
              "status_text": ""
            }
          },
          "base_uri": "https://localhost:8080/",
          "height": 110
        },
        "id": "4tXZ0GtNiife",
        "outputId": "ad0d1a66-3ed7-4ccd-c8ab-4f8d3c75393d"
      },
      "execution_count": 34,
      "outputs": [
        {
          "output_type": "display_data",
          "data": {
            "text/html": [
              "\n",
              "     <input type=\"file\" id=\"files-d3dafd36-0402-43e4-9703-2784c78f99bc\" name=\"files[]\" multiple disabled\n",
              "        style=\"border:none\" />\n",
              "     <output id=\"result-d3dafd36-0402-43e4-9703-2784c78f99bc\">\n",
              "      Upload widget is only available when the cell has been executed in the\n",
              "      current browser session. Please rerun this cell to enable.\n",
              "      </output>\n",
              "      <script src=\"/nbextensions/google.colab/files.js\"></script> "
            ],
            "text/plain": [
              "<IPython.core.display.HTML object>"
            ]
          },
          "metadata": {}
        },
        {
          "output_type": "stream",
          "name": "stdout",
          "text": [
            "Saving daily_adjusted_IBM.csv to daily_adjusted_IBM (1).csv\n"
          ]
        },
        {
          "output_type": "execute_result",
          "data": {
            "text/plain": [
              "{'daily_adjusted_IBM.csv': b'timestamp,open,high,low,close,adjusted_close,volume,dividend_amount,split_coefficient\\r\\n2021.12.30,133.75,134.37,133.33,133.91,133.91,3158111,0,1\\r\\n2021.12.29,132.4,134.21,132.3,133.35,133.35,4239935,0,1\\r\\n2021.12.28,131.6,133.22,131.59,132.63,132.63,3447079,0,1\\r\\n2021.12.27,130.63,131.65,129.95,131.62,131.62,4294499,0,1\\r\\n2021.12.23,130,130.96,129.52,130.63,130.63,3649044,0,1\\r\\n2021.12.22,129.06,129.79,127.6,129.75,129.75,3923198,0,1\\r\\n2021.12.21,127.66,129.3356,127.66,128.97,128.97,4855972,0,1\\r\\n2021.12.20,125.72,127.2,124.7,127.06,127.06,4941411,0,1\\r\\n2021.12.17,125.87,128.64,125.2093,127.4,127.4,10382693,0,1\\r\\n2021.12.16,123.51,126.6399,123.475,125.93,125.93,7280537,0,1\\r\\n2021.12.15,123.8,124.815,122.18,123.11,123.11,4990028,0,1\\r\\n2021.12.14,122.35,125.03,122.3,123.76,123.76,5716124,0,1\\r\\n2021.12.13,123.76,124.3554,120.79,122.58,122.58,6847468,0,1\\r\\n2021.12.10,124.3,125.33,123.36,124.09,124.09,4966921,0,1\\r\\n2021.12.09,122.15,123.95,121.79,123.57,123.57,4601092,0,1\\r\\n2021.12.08,122,123.38,121.52,123.02,123.02,5483948,0,1\\r\\n2021.12.07,120.475,122.08,120.07,121.58,121.58,5193991,0,1\\r\\n2021.12.06,119.4,121.15,119.4,119.91,119.91,4785560,0,1\\r\\n2021.12.03,117.36,119.36,117.36,118.84,118.84,6630139,0,1\\r\\n2021.12.02,117.37,117.98,116.56,116.9,116.9,5267149,0,1\\r\\n2021.12.01,118.25,118.93,116.85,116.92,116.92,5959867,0,1\\r\\n2021.11.30,117.5,119.2399,116.45,117.1,117.1,9252701,0,1\\r\\n2021.11.29,118.62,119.61,117.53,118.5,118.5,8949795,0,1\\r\\n2021.11.26,115,116.335,114.56,115.81,115.81,3322012,0,1\\r\\n2021.11.24,116.16,117.27,116.08,116.73,116.73,3220802,0,1\\r\\n2021.11.23,116.79,117.94,116.04,116.79,116.79,4914995,0,1\\r\\n2021.11.22,116,118.81,115.19,116.47,116.47,6417218,0,1\\r\\n2021.11.19,116.49,116.56,115.27,116.05,116.05,5384548,0,1\\r\\n2021.11.18,118.36,118.36,116.31,116.66,116.66,5047879,0,1\\r\\n2021.11.17,118.38,119.33,117.78,118.06,118.06,4043289,0,1\\r\\n2021.11.16,118.92,119.9,118.42,118.46,118.46,4750760,0,1\\r\\n2021.11.15,119.54,120.16,118.31,118.87,118.87,5046321,0,1\\r\\n2021.11.12,120,120.64,118.78,118.96,118.96,5376966,0,1\\r\\n2021.11.11,120.9,121.7894,120.08,120.27,120.27,4643257,0,1\\r\\n2021.11.10,121,122.43,119.932,120.22,120.22,6268961,0,1\\r\\n2021.11.09,122.56,122.9,120.26,120.85,120.85,7195453,1.64,1\\r\\n2021.11.08,123.985,124.78,123.53,124.54,122.8725529,5625275,0,1\\r\\n2021.11.05,121.43,123.77,121.43,123.61,121.9550045,6790478,0,1\\r\\n2021.11.04,123.05,123.34,119.9,120.85,119.2319577,7208736,0,1.046\\r\\n2021.11.03,126.23,127.29,125.68,127.13,119.9119271,5421406,0,1\\r\\n2021.11.02,126.3,127.17,124.91,126.18,119.0158653,4496393,0,1\\r\\n2021.11.01,125.05,126.31,123.8375,126.28,119.1101876,5874767,0,1\\r\\n2021.10.29,125.43,126.32,124.91,125.1,117.9971846,5916789,0,1\\r\\n2021.10.28,125.17,126.31,124.62,125.84,118.6951696,6503003,0,1\\r\\n2021.10.27,127.44,127.88,125.01,125.17,118.0632102,6973432,0,1\\r\\n2021.10.26,127.52,128.3,126.755,127.13,119.9119271,8520872,0,1\\r\\n2021.10.25,127.53,128.65,126.94,127.64,120.3929708,6374038,0,1\\r\\n2021.10.22,128.05,130.25,126.611,127.88,120.6193443,11582195,0,1\\r\\n2021.10.21,133.51,133.72,128.1,128.33,121.0437946,31466529,0,1\\r\\n2021.10.20,141.68,142.2,140.7,141.9,133.8433293,6189255,0,1\\r\\n2021.10.19,141.08,142.94,140.5201,141.98,133.9187871,4339548,0,1\\r\\n2021.10.18,144,144.94,141.759,142.32,134.2394829,6154055,0,1\\r\\n2021.10.15,143.39,144.85,142.79,144.61,136.3994634,3222778,0,1\\r\\n2021.10.14,141.04,143.92,141.01,143.39,135.2487314,4217305,0,1\\r\\n2021.10.13,140.52,141.41,139.66,140.76,132.7680552,2880747,0,1\\r\\n2021.10.12,142.21,142.3,140.3,140.47,132.4945206,3148559,0,1\\r\\n2021.10.11,143.5,144.08,142.4,142.43,134.3432374,2793298,0,1\\r\\n2021.10.08,141.81,143.65,141.05,143.22,135.0883835,3731279,0,1\\r\\n2021.10.07,142.73,143.395,141.53,141.81,133.7584393,3823803,0,1\\r\\n2021.10.06,142.48,143.37,140.89,142.36,134.2772118,5328433,0,1\\r\\n2021.10.05,144.75,145,142.64,143.15,135.0223579,6976648,0,1\\r\\n2021.10.04,142.74,146,142.3501,144.11,135.9278519,7351128,0,1\\r\\n2021.10.01,141,143.97,140.37,143.32,135.1827058,6604064,0,1\\r\\n2021.09.30,140,140.57,138.5,138.93,131.0419573,5824431,0,1\\r\\n2021.09.29,137.73,139.93,136.44,139.18,131.277763,3774236,0,1\\r\\n2021.09.28,139.17,139.688,137.21,137.47,129.6648519,4314595,0,1\\r\\n2021.09.27,137.96,139.065,137.48,138.56,130.6929648,3306865,0,1\\r\\n2021.09.24,137.03,138.48,136.75,137.49,129.6837163,2964397,0,1\\r\\n2021.09.23,135.25,137.42,135.03,136.73,128.9668669,3013238,0,1\\r\\n2021.09.22,133.72,135.37,133.47,134.63,126.9860988,3602416,0,1\\r\\n2021.09.21,135.11,135.65,132.94,132.97,125.4203488,4074528,0,1\\r\\n2021.09.20,133.9,135.18,132.78,134.31,126.6842675,4770651,0,1\\r\\n2021.09.17,135.75,135.9199,135.05,135.23,127.5520326,5633480,0,1\\r\\n2021.09.16,137.28,137.95,135.71,136.43,128.6839001,2643975,0,1\\r\\n2021.09.15,136.22,137.8,135.67,137.2,129.4101817,3254122,0,1\\r\\n2021.09.14,138.4,138.57,135.34,136.22,128.4858232,4454291,0,1\\r\\n2021.09.13,138.4,138.99,137.51,138.15,130.3062434,4144345,0,1\\r\\n2021.09.10,138.82,139.3699,137,137.02,129.2404016,3975115,0,1\\r\\n2021.09.09,137.85,138.96,137.555,137.74,129.9195221,3508363,0,1\\r\\n2021.09.08,138.14,139.09,137.6,138.67,130.7967193,2985409,0,1\\r\\n2021.09.07,139.65,139.79,137.7614,138.06,130.2213534,3285363,0,1\\r\\n2021.09.03,139.68,140.47,139.3,139.58,131.6550522,1924215,0,1\\r\\n2021.09.02,139.72,140.05,139.03,140.01,132.060638,2715659,0,1\\r\\n2021.09.01,139.98,140.0699,139.19,139.3,131.3909498,2474544,0,1\\r\\n2021.08.31,139.54,140.94,138.95,140.34,132.3719016,4235101,0,1\\r\\n2021.08.30,139.5,139.88,138.815,138.97,131.0796862,1995526,0,1\\r\\n2021.08.27,138.71,139.585,138.4,139.41,131.4947043,2459643,0,1\\r\\n2021.08.26,139.97,140.8,138.71,138.78,130.9004739,2498915,0,1\\r\\n2021.08.25,139.92,140.8,139.46,139.86,131.9191546,2012817,0,1\\r\\n2021.08.24,139.78,140.23,139.32,139.84,131.9002901,2365638,0,1\\r\\n2021.08.23,139.62,140.15,138.8,139.62,131.6927811,3039587,0,1\\r\\n2021.08.20,137.74,139.38,137.27,139.11,131.2117374,2657763,0,1\\r\\n2021.08.19,138.69,139.45,137.21,138.02,130.1836245,4160129,0,1\\r\\n2021.08.18,141.67,141.915,139.39,139.47,131.5512977,3510694,0,1\\r\\n2021.08.17,143,143.16,141.09,142.42,134.3338052,3074078,0,1\\r\\n2021.08.16,143.23,143.74,142.23,143.59,135.437376,2786343,0,1\\r\\n2021.08.13,142.64,143.58,142.44,143.18,135.0506546,1908951,0,1\\r\\n2021.08.12,142.26,143.15,142.0766,143.07,134.9469001,2089418,0,1\\r\\n2021.08.11,141.78,142.7685,141.5,142.13,134.0602706,4259952,0,1\\r\\n2021.08.10,141.21,141.811,140.34,141.38,133.3528534,5299869,0,1\\r\\n'}"
            ]
          },
          "metadata": {},
          "execution_count": 34
        }
      ]
    },
    {
      "cell_type": "code",
      "source": [
        "# Store the data\n",
        "df = pd.read_csv(\"daily_adjusted_IBM.csv\", index_col=\"timestamp\", parse_dates=[\"timestamp\"])"
      ],
      "metadata": {
        "id": "z-8W_fIypV74"
      },
      "execution_count": 35,
      "outputs": []
    },
    {
      "cell_type": "code",
      "source": [
        "df"
      ],
      "metadata": {
        "colab": {
          "base_uri": "https://localhost:8080/",
          "height": 455
        },
        "id": "8OJSsxf-rHUX",
        "outputId": "bc12e642-db80-40c1-a836-35131d151c6b"
      },
      "execution_count": 36,
      "outputs": [
        {
          "output_type": "execute_result",
          "data": {
            "text/html": [
              "\n",
              "  <div id=\"df-2c937cf6-bd15-4a6a-9b25-c0681e82ad66\">\n",
              "    <div class=\"colab-df-container\">\n",
              "      <div>\n",
              "<style scoped>\n",
              "    .dataframe tbody tr th:only-of-type {\n",
              "        vertical-align: middle;\n",
              "    }\n",
              "\n",
              "    .dataframe tbody tr th {\n",
              "        vertical-align: top;\n",
              "    }\n",
              "\n",
              "    .dataframe thead th {\n",
              "        text-align: right;\n",
              "    }\n",
              "</style>\n",
              "<table border=\"1\" class=\"dataframe\">\n",
              "  <thead>\n",
              "    <tr style=\"text-align: right;\">\n",
              "      <th></th>\n",
              "      <th>open</th>\n",
              "      <th>high</th>\n",
              "      <th>low</th>\n",
              "      <th>close</th>\n",
              "      <th>adjusted_close</th>\n",
              "      <th>volume</th>\n",
              "      <th>dividend_amount</th>\n",
              "      <th>split_coefficient</th>\n",
              "    </tr>\n",
              "    <tr>\n",
              "      <th>timestamp</th>\n",
              "      <th></th>\n",
              "      <th></th>\n",
              "      <th></th>\n",
              "      <th></th>\n",
              "      <th></th>\n",
              "      <th></th>\n",
              "      <th></th>\n",
              "      <th></th>\n",
              "    </tr>\n",
              "  </thead>\n",
              "  <tbody>\n",
              "    <tr>\n",
              "      <th>2021-12-30</th>\n",
              "      <td>133.75</td>\n",
              "      <td>134.3700</td>\n",
              "      <td>133.3300</td>\n",
              "      <td>133.91</td>\n",
              "      <td>133.910000</td>\n",
              "      <td>3158111</td>\n",
              "      <td>0.0</td>\n",
              "      <td>1.0</td>\n",
              "    </tr>\n",
              "    <tr>\n",
              "      <th>2021-12-29</th>\n",
              "      <td>132.40</td>\n",
              "      <td>134.2100</td>\n",
              "      <td>132.3000</td>\n",
              "      <td>133.35</td>\n",
              "      <td>133.350000</td>\n",
              "      <td>4239935</td>\n",
              "      <td>0.0</td>\n",
              "      <td>1.0</td>\n",
              "    </tr>\n",
              "    <tr>\n",
              "      <th>2021-12-28</th>\n",
              "      <td>131.60</td>\n",
              "      <td>133.2200</td>\n",
              "      <td>131.5900</td>\n",
              "      <td>132.63</td>\n",
              "      <td>132.630000</td>\n",
              "      <td>3447079</td>\n",
              "      <td>0.0</td>\n",
              "      <td>1.0</td>\n",
              "    </tr>\n",
              "    <tr>\n",
              "      <th>2021-12-27</th>\n",
              "      <td>130.63</td>\n",
              "      <td>131.6500</td>\n",
              "      <td>129.9500</td>\n",
              "      <td>131.62</td>\n",
              "      <td>131.620000</td>\n",
              "      <td>4294499</td>\n",
              "      <td>0.0</td>\n",
              "      <td>1.0</td>\n",
              "    </tr>\n",
              "    <tr>\n",
              "      <th>2021-12-23</th>\n",
              "      <td>130.00</td>\n",
              "      <td>130.9600</td>\n",
              "      <td>129.5200</td>\n",
              "      <td>130.63</td>\n",
              "      <td>130.630000</td>\n",
              "      <td>3649044</td>\n",
              "      <td>0.0</td>\n",
              "      <td>1.0</td>\n",
              "    </tr>\n",
              "    <tr>\n",
              "      <th>...</th>\n",
              "      <td>...</td>\n",
              "      <td>...</td>\n",
              "      <td>...</td>\n",
              "      <td>...</td>\n",
              "      <td>...</td>\n",
              "      <td>...</td>\n",
              "      <td>...</td>\n",
              "      <td>...</td>\n",
              "    </tr>\n",
              "    <tr>\n",
              "      <th>2021-08-16</th>\n",
              "      <td>143.23</td>\n",
              "      <td>143.7400</td>\n",
              "      <td>142.2300</td>\n",
              "      <td>143.59</td>\n",
              "      <td>135.437376</td>\n",
              "      <td>2786343</td>\n",
              "      <td>0.0</td>\n",
              "      <td>1.0</td>\n",
              "    </tr>\n",
              "    <tr>\n",
              "      <th>2021-08-13</th>\n",
              "      <td>142.64</td>\n",
              "      <td>143.5800</td>\n",
              "      <td>142.4400</td>\n",
              "      <td>143.18</td>\n",
              "      <td>135.050655</td>\n",
              "      <td>1908951</td>\n",
              "      <td>0.0</td>\n",
              "      <td>1.0</td>\n",
              "    </tr>\n",
              "    <tr>\n",
              "      <th>2021-08-12</th>\n",
              "      <td>142.26</td>\n",
              "      <td>143.1500</td>\n",
              "      <td>142.0766</td>\n",
              "      <td>143.07</td>\n",
              "      <td>134.946900</td>\n",
              "      <td>2089418</td>\n",
              "      <td>0.0</td>\n",
              "      <td>1.0</td>\n",
              "    </tr>\n",
              "    <tr>\n",
              "      <th>2021-08-11</th>\n",
              "      <td>141.78</td>\n",
              "      <td>142.7685</td>\n",
              "      <td>141.5000</td>\n",
              "      <td>142.13</td>\n",
              "      <td>134.060271</td>\n",
              "      <td>4259952</td>\n",
              "      <td>0.0</td>\n",
              "      <td>1.0</td>\n",
              "    </tr>\n",
              "    <tr>\n",
              "      <th>2021-08-10</th>\n",
              "      <td>141.21</td>\n",
              "      <td>141.8110</td>\n",
              "      <td>140.3400</td>\n",
              "      <td>141.38</td>\n",
              "      <td>133.352853</td>\n",
              "      <td>5299869</td>\n",
              "      <td>0.0</td>\n",
              "      <td>1.0</td>\n",
              "    </tr>\n",
              "  </tbody>\n",
              "</table>\n",
              "<p>100 rows × 8 columns</p>\n",
              "</div>\n",
              "      <button class=\"colab-df-convert\" onclick=\"convertToInteractive('df-2c937cf6-bd15-4a6a-9b25-c0681e82ad66')\"\n",
              "              title=\"Convert this dataframe to an interactive table.\"\n",
              "              style=\"display:none;\">\n",
              "        \n",
              "  <svg xmlns=\"http://www.w3.org/2000/svg\" height=\"24px\"viewBox=\"0 0 24 24\"\n",
              "       width=\"24px\">\n",
              "    <path d=\"M0 0h24v24H0V0z\" fill=\"none\"/>\n",
              "    <path d=\"M18.56 5.44l.94 2.06.94-2.06 2.06-.94-2.06-.94-.94-2.06-.94 2.06-2.06.94zm-11 1L8.5 8.5l.94-2.06 2.06-.94-2.06-.94L8.5 2.5l-.94 2.06-2.06.94zm10 10l.94 2.06.94-2.06 2.06-.94-2.06-.94-.94-2.06-.94 2.06-2.06.94z\"/><path d=\"M17.41 7.96l-1.37-1.37c-.4-.4-.92-.59-1.43-.59-.52 0-1.04.2-1.43.59L10.3 9.45l-7.72 7.72c-.78.78-.78 2.05 0 2.83L4 21.41c.39.39.9.59 1.41.59.51 0 1.02-.2 1.41-.59l7.78-7.78 2.81-2.81c.8-.78.8-2.07 0-2.86zM5.41 20L4 18.59l7.72-7.72 1.47 1.35L5.41 20z\"/>\n",
              "  </svg>\n",
              "      </button>\n",
              "      \n",
              "  <style>\n",
              "    .colab-df-container {\n",
              "      display:flex;\n",
              "      flex-wrap:wrap;\n",
              "      gap: 12px;\n",
              "    }\n",
              "\n",
              "    .colab-df-convert {\n",
              "      background-color: #E8F0FE;\n",
              "      border: none;\n",
              "      border-radius: 50%;\n",
              "      cursor: pointer;\n",
              "      display: none;\n",
              "      fill: #1967D2;\n",
              "      height: 32px;\n",
              "      padding: 0 0 0 0;\n",
              "      width: 32px;\n",
              "    }\n",
              "\n",
              "    .colab-df-convert:hover {\n",
              "      background-color: #E2EBFA;\n",
              "      box-shadow: 0px 1px 2px rgba(60, 64, 67, 0.3), 0px 1px 3px 1px rgba(60, 64, 67, 0.15);\n",
              "      fill: #174EA6;\n",
              "    }\n",
              "\n",
              "    [theme=dark] .colab-df-convert {\n",
              "      background-color: #3B4455;\n",
              "      fill: #D2E3FC;\n",
              "    }\n",
              "\n",
              "    [theme=dark] .colab-df-convert:hover {\n",
              "      background-color: #434B5C;\n",
              "      box-shadow: 0px 1px 3px 1px rgba(0, 0, 0, 0.15);\n",
              "      filter: drop-shadow(0px 1px 2px rgba(0, 0, 0, 0.3));\n",
              "      fill: #FFFFFF;\n",
              "    }\n",
              "  </style>\n",
              "\n",
              "      <script>\n",
              "        const buttonEl =\n",
              "          document.querySelector('#df-2c937cf6-bd15-4a6a-9b25-c0681e82ad66 button.colab-df-convert');\n",
              "        buttonEl.style.display =\n",
              "          google.colab.kernel.accessAllowed ? 'block' : 'none';\n",
              "\n",
              "        async function convertToInteractive(key) {\n",
              "          const element = document.querySelector('#df-2c937cf6-bd15-4a6a-9b25-c0681e82ad66');\n",
              "          const dataTable =\n",
              "            await google.colab.kernel.invokeFunction('convertToInteractive',\n",
              "                                                     [key], {});\n",
              "          if (!dataTable) return;\n",
              "\n",
              "          const docLinkHtml = 'Like what you see? Visit the ' +\n",
              "            '<a target=\"_blank\" href=https://colab.research.google.com/notebooks/data_table.ipynb>data table notebook</a>'\n",
              "            + ' to learn more about interactive tables.';\n",
              "          element.innerHTML = '';\n",
              "          dataTable['output_type'] = 'display_data';\n",
              "          await google.colab.output.renderOutput(dataTable, element);\n",
              "          const docLink = document.createElement('div');\n",
              "          docLink.innerHTML = docLinkHtml;\n",
              "          element.appendChild(docLink);\n",
              "        }\n",
              "      </script>\n",
              "    </div>\n",
              "  </div>\n",
              "  "
            ],
            "text/plain": [
              "              open      high  ...  dividend_amount  split_coefficient\n",
              "timestamp                     ...                                    \n",
              "2021-12-30  133.75  134.3700  ...              0.0                1.0\n",
              "2021-12-29  132.40  134.2100  ...              0.0                1.0\n",
              "2021-12-28  131.60  133.2200  ...              0.0                1.0\n",
              "2021-12-27  130.63  131.6500  ...              0.0                1.0\n",
              "2021-12-23  130.00  130.9600  ...              0.0                1.0\n",
              "...            ...       ...  ...              ...                ...\n",
              "2021-08-16  143.23  143.7400  ...              0.0                1.0\n",
              "2021-08-13  142.64  143.5800  ...              0.0                1.0\n",
              "2021-08-12  142.26  143.1500  ...              0.0                1.0\n",
              "2021-08-11  141.78  142.7685  ...              0.0                1.0\n",
              "2021-08-10  141.21  141.8110  ...              0.0                1.0\n",
              "\n",
              "[100 rows x 8 columns]"
            ]
          },
          "metadata": {},
          "execution_count": 36
        }
      ]
    },
    {
      "cell_type": "code",
      "source": [
        "# Reverse the order of the datafram (because of the timestamp is in reversed order)\n",
        "df1 = df.iloc[::-1]"
      ],
      "metadata": {
        "id": "H-pB_KqXpdwS"
      },
      "execution_count": 37,
      "outputs": []
    },
    {
      "cell_type": "code",
      "source": [
        "df1"
      ],
      "metadata": {
        "colab": {
          "base_uri": "https://localhost:8080/",
          "height": 455
        },
        "id": "f9GW2t9orYJ2",
        "outputId": "21d41ab8-15b6-43f3-d0c6-7d2e8876f33b"
      },
      "execution_count": 38,
      "outputs": [
        {
          "output_type": "execute_result",
          "data": {
            "text/html": [
              "\n",
              "  <div id=\"df-43bf4890-3e8a-4ab9-8e2e-58084db571ad\">\n",
              "    <div class=\"colab-df-container\">\n",
              "      <div>\n",
              "<style scoped>\n",
              "    .dataframe tbody tr th:only-of-type {\n",
              "        vertical-align: middle;\n",
              "    }\n",
              "\n",
              "    .dataframe tbody tr th {\n",
              "        vertical-align: top;\n",
              "    }\n",
              "\n",
              "    .dataframe thead th {\n",
              "        text-align: right;\n",
              "    }\n",
              "</style>\n",
              "<table border=\"1\" class=\"dataframe\">\n",
              "  <thead>\n",
              "    <tr style=\"text-align: right;\">\n",
              "      <th></th>\n",
              "      <th>open</th>\n",
              "      <th>high</th>\n",
              "      <th>low</th>\n",
              "      <th>close</th>\n",
              "      <th>adjusted_close</th>\n",
              "      <th>volume</th>\n",
              "      <th>dividend_amount</th>\n",
              "      <th>split_coefficient</th>\n",
              "    </tr>\n",
              "    <tr>\n",
              "      <th>timestamp</th>\n",
              "      <th></th>\n",
              "      <th></th>\n",
              "      <th></th>\n",
              "      <th></th>\n",
              "      <th></th>\n",
              "      <th></th>\n",
              "      <th></th>\n",
              "      <th></th>\n",
              "    </tr>\n",
              "  </thead>\n",
              "  <tbody>\n",
              "    <tr>\n",
              "      <th>2021-08-10</th>\n",
              "      <td>141.21</td>\n",
              "      <td>141.8110</td>\n",
              "      <td>140.3400</td>\n",
              "      <td>141.38</td>\n",
              "      <td>133.352853</td>\n",
              "      <td>5299869</td>\n",
              "      <td>0.0</td>\n",
              "      <td>1.0</td>\n",
              "    </tr>\n",
              "    <tr>\n",
              "      <th>2021-08-11</th>\n",
              "      <td>141.78</td>\n",
              "      <td>142.7685</td>\n",
              "      <td>141.5000</td>\n",
              "      <td>142.13</td>\n",
              "      <td>134.060271</td>\n",
              "      <td>4259952</td>\n",
              "      <td>0.0</td>\n",
              "      <td>1.0</td>\n",
              "    </tr>\n",
              "    <tr>\n",
              "      <th>2021-08-12</th>\n",
              "      <td>142.26</td>\n",
              "      <td>143.1500</td>\n",
              "      <td>142.0766</td>\n",
              "      <td>143.07</td>\n",
              "      <td>134.946900</td>\n",
              "      <td>2089418</td>\n",
              "      <td>0.0</td>\n",
              "      <td>1.0</td>\n",
              "    </tr>\n",
              "    <tr>\n",
              "      <th>2021-08-13</th>\n",
              "      <td>142.64</td>\n",
              "      <td>143.5800</td>\n",
              "      <td>142.4400</td>\n",
              "      <td>143.18</td>\n",
              "      <td>135.050655</td>\n",
              "      <td>1908951</td>\n",
              "      <td>0.0</td>\n",
              "      <td>1.0</td>\n",
              "    </tr>\n",
              "    <tr>\n",
              "      <th>2021-08-16</th>\n",
              "      <td>143.23</td>\n",
              "      <td>143.7400</td>\n",
              "      <td>142.2300</td>\n",
              "      <td>143.59</td>\n",
              "      <td>135.437376</td>\n",
              "      <td>2786343</td>\n",
              "      <td>0.0</td>\n",
              "      <td>1.0</td>\n",
              "    </tr>\n",
              "    <tr>\n",
              "      <th>...</th>\n",
              "      <td>...</td>\n",
              "      <td>...</td>\n",
              "      <td>...</td>\n",
              "      <td>...</td>\n",
              "      <td>...</td>\n",
              "      <td>...</td>\n",
              "      <td>...</td>\n",
              "      <td>...</td>\n",
              "    </tr>\n",
              "    <tr>\n",
              "      <th>2021-12-23</th>\n",
              "      <td>130.00</td>\n",
              "      <td>130.9600</td>\n",
              "      <td>129.5200</td>\n",
              "      <td>130.63</td>\n",
              "      <td>130.630000</td>\n",
              "      <td>3649044</td>\n",
              "      <td>0.0</td>\n",
              "      <td>1.0</td>\n",
              "    </tr>\n",
              "    <tr>\n",
              "      <th>2021-12-27</th>\n",
              "      <td>130.63</td>\n",
              "      <td>131.6500</td>\n",
              "      <td>129.9500</td>\n",
              "      <td>131.62</td>\n",
              "      <td>131.620000</td>\n",
              "      <td>4294499</td>\n",
              "      <td>0.0</td>\n",
              "      <td>1.0</td>\n",
              "    </tr>\n",
              "    <tr>\n",
              "      <th>2021-12-28</th>\n",
              "      <td>131.60</td>\n",
              "      <td>133.2200</td>\n",
              "      <td>131.5900</td>\n",
              "      <td>132.63</td>\n",
              "      <td>132.630000</td>\n",
              "      <td>3447079</td>\n",
              "      <td>0.0</td>\n",
              "      <td>1.0</td>\n",
              "    </tr>\n",
              "    <tr>\n",
              "      <th>2021-12-29</th>\n",
              "      <td>132.40</td>\n",
              "      <td>134.2100</td>\n",
              "      <td>132.3000</td>\n",
              "      <td>133.35</td>\n",
              "      <td>133.350000</td>\n",
              "      <td>4239935</td>\n",
              "      <td>0.0</td>\n",
              "      <td>1.0</td>\n",
              "    </tr>\n",
              "    <tr>\n",
              "      <th>2021-12-30</th>\n",
              "      <td>133.75</td>\n",
              "      <td>134.3700</td>\n",
              "      <td>133.3300</td>\n",
              "      <td>133.91</td>\n",
              "      <td>133.910000</td>\n",
              "      <td>3158111</td>\n",
              "      <td>0.0</td>\n",
              "      <td>1.0</td>\n",
              "    </tr>\n",
              "  </tbody>\n",
              "</table>\n",
              "<p>100 rows × 8 columns</p>\n",
              "</div>\n",
              "      <button class=\"colab-df-convert\" onclick=\"convertToInteractive('df-43bf4890-3e8a-4ab9-8e2e-58084db571ad')\"\n",
              "              title=\"Convert this dataframe to an interactive table.\"\n",
              "              style=\"display:none;\">\n",
              "        \n",
              "  <svg xmlns=\"http://www.w3.org/2000/svg\" height=\"24px\"viewBox=\"0 0 24 24\"\n",
              "       width=\"24px\">\n",
              "    <path d=\"M0 0h24v24H0V0z\" fill=\"none\"/>\n",
              "    <path d=\"M18.56 5.44l.94 2.06.94-2.06 2.06-.94-2.06-.94-.94-2.06-.94 2.06-2.06.94zm-11 1L8.5 8.5l.94-2.06 2.06-.94-2.06-.94L8.5 2.5l-.94 2.06-2.06.94zm10 10l.94 2.06.94-2.06 2.06-.94-2.06-.94-.94-2.06-.94 2.06-2.06.94z\"/><path d=\"M17.41 7.96l-1.37-1.37c-.4-.4-.92-.59-1.43-.59-.52 0-1.04.2-1.43.59L10.3 9.45l-7.72 7.72c-.78.78-.78 2.05 0 2.83L4 21.41c.39.39.9.59 1.41.59.51 0 1.02-.2 1.41-.59l7.78-7.78 2.81-2.81c.8-.78.8-2.07 0-2.86zM5.41 20L4 18.59l7.72-7.72 1.47 1.35L5.41 20z\"/>\n",
              "  </svg>\n",
              "      </button>\n",
              "      \n",
              "  <style>\n",
              "    .colab-df-container {\n",
              "      display:flex;\n",
              "      flex-wrap:wrap;\n",
              "      gap: 12px;\n",
              "    }\n",
              "\n",
              "    .colab-df-convert {\n",
              "      background-color: #E8F0FE;\n",
              "      border: none;\n",
              "      border-radius: 50%;\n",
              "      cursor: pointer;\n",
              "      display: none;\n",
              "      fill: #1967D2;\n",
              "      height: 32px;\n",
              "      padding: 0 0 0 0;\n",
              "      width: 32px;\n",
              "    }\n",
              "\n",
              "    .colab-df-convert:hover {\n",
              "      background-color: #E2EBFA;\n",
              "      box-shadow: 0px 1px 2px rgba(60, 64, 67, 0.3), 0px 1px 3px 1px rgba(60, 64, 67, 0.15);\n",
              "      fill: #174EA6;\n",
              "    }\n",
              "\n",
              "    [theme=dark] .colab-df-convert {\n",
              "      background-color: #3B4455;\n",
              "      fill: #D2E3FC;\n",
              "    }\n",
              "\n",
              "    [theme=dark] .colab-df-convert:hover {\n",
              "      background-color: #434B5C;\n",
              "      box-shadow: 0px 1px 3px 1px rgba(0, 0, 0, 0.15);\n",
              "      filter: drop-shadow(0px 1px 2px rgba(0, 0, 0, 0.3));\n",
              "      fill: #FFFFFF;\n",
              "    }\n",
              "  </style>\n",
              "\n",
              "      <script>\n",
              "        const buttonEl =\n",
              "          document.querySelector('#df-43bf4890-3e8a-4ab9-8e2e-58084db571ad button.colab-df-convert');\n",
              "        buttonEl.style.display =\n",
              "          google.colab.kernel.accessAllowed ? 'block' : 'none';\n",
              "\n",
              "        async function convertToInteractive(key) {\n",
              "          const element = document.querySelector('#df-43bf4890-3e8a-4ab9-8e2e-58084db571ad');\n",
              "          const dataTable =\n",
              "            await google.colab.kernel.invokeFunction('convertToInteractive',\n",
              "                                                     [key], {});\n",
              "          if (!dataTable) return;\n",
              "\n",
              "          const docLinkHtml = 'Like what you see? Visit the ' +\n",
              "            '<a target=\"_blank\" href=https://colab.research.google.com/notebooks/data_table.ipynb>data table notebook</a>'\n",
              "            + ' to learn more about interactive tables.';\n",
              "          element.innerHTML = '';\n",
              "          dataTable['output_type'] = 'display_data';\n",
              "          await google.colab.output.renderOutput(dataTable, element);\n",
              "          const docLink = document.createElement('div');\n",
              "          docLink.innerHTML = docLinkHtml;\n",
              "          element.appendChild(docLink);\n",
              "        }\n",
              "      </script>\n",
              "    </div>\n",
              "  </div>\n",
              "  "
            ],
            "text/plain": [
              "              open      high  ...  dividend_amount  split_coefficient\n",
              "timestamp                     ...                                    \n",
              "2021-08-10  141.21  141.8110  ...              0.0                1.0\n",
              "2021-08-11  141.78  142.7685  ...              0.0                1.0\n",
              "2021-08-12  142.26  143.1500  ...              0.0                1.0\n",
              "2021-08-13  142.64  143.5800  ...              0.0                1.0\n",
              "2021-08-16  143.23  143.7400  ...              0.0                1.0\n",
              "...            ...       ...  ...              ...                ...\n",
              "2021-12-23  130.00  130.9600  ...              0.0                1.0\n",
              "2021-12-27  130.63  131.6500  ...              0.0                1.0\n",
              "2021-12-28  131.60  133.2200  ...              0.0                1.0\n",
              "2021-12-29  132.40  134.2100  ...              0.0                1.0\n",
              "2021-12-30  133.75  134.3700  ...              0.0                1.0\n",
              "\n",
              "[100 rows x 8 columns]"
            ]
          },
          "metadata": {},
          "execution_count": 38
        }
      ]
    },
    {
      "cell_type": "code",
      "source": [
        "# Creating time-step features\n",
        "# With time dummy\n",
        "df1['Time'] = np.arange(len(df1.index))\n",
        "df1.head()"
      ],
      "metadata": {
        "colab": {
          "base_uri": "https://localhost:8080/",
          "height": 342
        },
        "id": "Utw_t6NpwE_V",
        "outputId": "2b6199ea-7b8a-4cdb-8c07-a533b731d26b"
      },
      "execution_count": 39,
      "outputs": [
        {
          "output_type": "stream",
          "name": "stderr",
          "text": [
            "/usr/local/lib/python3.7/dist-packages/ipykernel_launcher.py:3: SettingWithCopyWarning: \n",
            "A value is trying to be set on a copy of a slice from a DataFrame.\n",
            "Try using .loc[row_indexer,col_indexer] = value instead\n",
            "\n",
            "See the caveats in the documentation: https://pandas.pydata.org/pandas-docs/stable/user_guide/indexing.html#returning-a-view-versus-a-copy\n",
            "  This is separate from the ipykernel package so we can avoid doing imports until\n"
          ]
        },
        {
          "output_type": "execute_result",
          "data": {
            "text/html": [
              "\n",
              "  <div id=\"df-c3d5945b-ebd9-41ae-a846-6659c19140cc\">\n",
              "    <div class=\"colab-df-container\">\n",
              "      <div>\n",
              "<style scoped>\n",
              "    .dataframe tbody tr th:only-of-type {\n",
              "        vertical-align: middle;\n",
              "    }\n",
              "\n",
              "    .dataframe tbody tr th {\n",
              "        vertical-align: top;\n",
              "    }\n",
              "\n",
              "    .dataframe thead th {\n",
              "        text-align: right;\n",
              "    }\n",
              "</style>\n",
              "<table border=\"1\" class=\"dataframe\">\n",
              "  <thead>\n",
              "    <tr style=\"text-align: right;\">\n",
              "      <th></th>\n",
              "      <th>open</th>\n",
              "      <th>high</th>\n",
              "      <th>low</th>\n",
              "      <th>close</th>\n",
              "      <th>adjusted_close</th>\n",
              "      <th>volume</th>\n",
              "      <th>dividend_amount</th>\n",
              "      <th>split_coefficient</th>\n",
              "      <th>Time</th>\n",
              "    </tr>\n",
              "    <tr>\n",
              "      <th>timestamp</th>\n",
              "      <th></th>\n",
              "      <th></th>\n",
              "      <th></th>\n",
              "      <th></th>\n",
              "      <th></th>\n",
              "      <th></th>\n",
              "      <th></th>\n",
              "      <th></th>\n",
              "      <th></th>\n",
              "    </tr>\n",
              "  </thead>\n",
              "  <tbody>\n",
              "    <tr>\n",
              "      <th>2021-08-10</th>\n",
              "      <td>141.21</td>\n",
              "      <td>141.8110</td>\n",
              "      <td>140.3400</td>\n",
              "      <td>141.38</td>\n",
              "      <td>133.352853</td>\n",
              "      <td>5299869</td>\n",
              "      <td>0.0</td>\n",
              "      <td>1.0</td>\n",
              "      <td>0</td>\n",
              "    </tr>\n",
              "    <tr>\n",
              "      <th>2021-08-11</th>\n",
              "      <td>141.78</td>\n",
              "      <td>142.7685</td>\n",
              "      <td>141.5000</td>\n",
              "      <td>142.13</td>\n",
              "      <td>134.060271</td>\n",
              "      <td>4259952</td>\n",
              "      <td>0.0</td>\n",
              "      <td>1.0</td>\n",
              "      <td>1</td>\n",
              "    </tr>\n",
              "    <tr>\n",
              "      <th>2021-08-12</th>\n",
              "      <td>142.26</td>\n",
              "      <td>143.1500</td>\n",
              "      <td>142.0766</td>\n",
              "      <td>143.07</td>\n",
              "      <td>134.946900</td>\n",
              "      <td>2089418</td>\n",
              "      <td>0.0</td>\n",
              "      <td>1.0</td>\n",
              "      <td>2</td>\n",
              "    </tr>\n",
              "    <tr>\n",
              "      <th>2021-08-13</th>\n",
              "      <td>142.64</td>\n",
              "      <td>143.5800</td>\n",
              "      <td>142.4400</td>\n",
              "      <td>143.18</td>\n",
              "      <td>135.050655</td>\n",
              "      <td>1908951</td>\n",
              "      <td>0.0</td>\n",
              "      <td>1.0</td>\n",
              "      <td>3</td>\n",
              "    </tr>\n",
              "    <tr>\n",
              "      <th>2021-08-16</th>\n",
              "      <td>143.23</td>\n",
              "      <td>143.7400</td>\n",
              "      <td>142.2300</td>\n",
              "      <td>143.59</td>\n",
              "      <td>135.437376</td>\n",
              "      <td>2786343</td>\n",
              "      <td>0.0</td>\n",
              "      <td>1.0</td>\n",
              "      <td>4</td>\n",
              "    </tr>\n",
              "  </tbody>\n",
              "</table>\n",
              "</div>\n",
              "      <button class=\"colab-df-convert\" onclick=\"convertToInteractive('df-c3d5945b-ebd9-41ae-a846-6659c19140cc')\"\n",
              "              title=\"Convert this dataframe to an interactive table.\"\n",
              "              style=\"display:none;\">\n",
              "        \n",
              "  <svg xmlns=\"http://www.w3.org/2000/svg\" height=\"24px\"viewBox=\"0 0 24 24\"\n",
              "       width=\"24px\">\n",
              "    <path d=\"M0 0h24v24H0V0z\" fill=\"none\"/>\n",
              "    <path d=\"M18.56 5.44l.94 2.06.94-2.06 2.06-.94-2.06-.94-.94-2.06-.94 2.06-2.06.94zm-11 1L8.5 8.5l.94-2.06 2.06-.94-2.06-.94L8.5 2.5l-.94 2.06-2.06.94zm10 10l.94 2.06.94-2.06 2.06-.94-2.06-.94-.94-2.06-.94 2.06-2.06.94z\"/><path d=\"M17.41 7.96l-1.37-1.37c-.4-.4-.92-.59-1.43-.59-.52 0-1.04.2-1.43.59L10.3 9.45l-7.72 7.72c-.78.78-.78 2.05 0 2.83L4 21.41c.39.39.9.59 1.41.59.51 0 1.02-.2 1.41-.59l7.78-7.78 2.81-2.81c.8-.78.8-2.07 0-2.86zM5.41 20L4 18.59l7.72-7.72 1.47 1.35L5.41 20z\"/>\n",
              "  </svg>\n",
              "      </button>\n",
              "      \n",
              "  <style>\n",
              "    .colab-df-container {\n",
              "      display:flex;\n",
              "      flex-wrap:wrap;\n",
              "      gap: 12px;\n",
              "    }\n",
              "\n",
              "    .colab-df-convert {\n",
              "      background-color: #E8F0FE;\n",
              "      border: none;\n",
              "      border-radius: 50%;\n",
              "      cursor: pointer;\n",
              "      display: none;\n",
              "      fill: #1967D2;\n",
              "      height: 32px;\n",
              "      padding: 0 0 0 0;\n",
              "      width: 32px;\n",
              "    }\n",
              "\n",
              "    .colab-df-convert:hover {\n",
              "      background-color: #E2EBFA;\n",
              "      box-shadow: 0px 1px 2px rgba(60, 64, 67, 0.3), 0px 1px 3px 1px rgba(60, 64, 67, 0.15);\n",
              "      fill: #174EA6;\n",
              "    }\n",
              "\n",
              "    [theme=dark] .colab-df-convert {\n",
              "      background-color: #3B4455;\n",
              "      fill: #D2E3FC;\n",
              "    }\n",
              "\n",
              "    [theme=dark] .colab-df-convert:hover {\n",
              "      background-color: #434B5C;\n",
              "      box-shadow: 0px 1px 3px 1px rgba(0, 0, 0, 0.15);\n",
              "      filter: drop-shadow(0px 1px 2px rgba(0, 0, 0, 0.3));\n",
              "      fill: #FFFFFF;\n",
              "    }\n",
              "  </style>\n",
              "\n",
              "      <script>\n",
              "        const buttonEl =\n",
              "          document.querySelector('#df-c3d5945b-ebd9-41ae-a846-6659c19140cc button.colab-df-convert');\n",
              "        buttonEl.style.display =\n",
              "          google.colab.kernel.accessAllowed ? 'block' : 'none';\n",
              "\n",
              "        async function convertToInteractive(key) {\n",
              "          const element = document.querySelector('#df-c3d5945b-ebd9-41ae-a846-6659c19140cc');\n",
              "          const dataTable =\n",
              "            await google.colab.kernel.invokeFunction('convertToInteractive',\n",
              "                                                     [key], {});\n",
              "          if (!dataTable) return;\n",
              "\n",
              "          const docLinkHtml = 'Like what you see? Visit the ' +\n",
              "            '<a target=\"_blank\" href=https://colab.research.google.com/notebooks/data_table.ipynb>data table notebook</a>'\n",
              "            + ' to learn more about interactive tables.';\n",
              "          element.innerHTML = '';\n",
              "          dataTable['output_type'] = 'display_data';\n",
              "          await google.colab.output.renderOutput(dataTable, element);\n",
              "          const docLink = document.createElement('div');\n",
              "          docLink.innerHTML = docLinkHtml;\n",
              "          element.appendChild(docLink);\n",
              "        }\n",
              "      </script>\n",
              "    </div>\n",
              "  </div>\n",
              "  "
            ],
            "text/plain": [
              "              open      high  ...  split_coefficient  Time\n",
              "timestamp                     ...                         \n",
              "2021-08-10  141.21  141.8110  ...                1.0     0\n",
              "2021-08-11  141.78  142.7685  ...                1.0     1\n",
              "2021-08-12  142.26  143.1500  ...                1.0     2\n",
              "2021-08-13  142.64  143.5800  ...                1.0     3\n",
              "2021-08-16  143.23  143.7400  ...                1.0     4\n",
              "\n",
              "[5 rows x 9 columns]"
            ]
          },
          "metadata": {},
          "execution_count": 39
        }
      ]
    },
    {
      "cell_type": "code",
      "source": [
        "# Plot the Linear Regression line and the close value\n",
        "plt.style.use(\"seaborn-whitegrid\")\n",
        "plt.rc(\n",
        "    \"figure\",\n",
        "    autolayout=True,\n",
        "    figsize=(11, 4),\n",
        "    titlesize=18,\n",
        "    titleweight='bold',\n",
        ")\n",
        "plt.rc(\n",
        "    \"axes\",\n",
        "    labelweight=\"bold\",\n",
        "    labelsize=\"large\",\n",
        "    titleweight=\"bold\",\n",
        "    titlesize=16,\n",
        "    titlepad=10,\n",
        ")\n",
        "%config InlineBackend.figure_format = 'retina'\n",
        "%matplotlib inline\n",
        "\n",
        "fig, ax = plt.subplots()\n",
        "ax.plot('Time', 'close', data=df1, color='0.75')\n",
        "ax = sns.regplot(x='Time', y='close', data=df1, ci=None, scatter_kws=dict(color='0.25'))\n",
        "ax.set_title('Time Plot of IBM Stock Close Price')"
      ],
      "metadata": {
        "colab": {
          "base_uri": "https://localhost:8080/",
          "height": 314
        },
        "id": "B_eHQFGyuApu",
        "outputId": "98557861-4cdd-4990-8a78-7402c8f03ad2"
      },
      "execution_count": 40,
      "outputs": [
        {
          "output_type": "execute_result",
          "data": {
            "text/plain": [
              "Text(0.5, 1.0, 'Time Plot of IBM Stock Close Price')"
            ]
          },
          "metadata": {},
          "execution_count": 40
        },
        {
          "output_type": "display_data",
          "data": {
            "image/png": "[encoded data removed]",
            "text/plain": [
              "<Figure size 432x288 with 1 Axes>"
            ]
          },
          "metadata": {
            "image/png": {
              "width": 424,
              "height": 280
            },
            "needs_background": "light"
          }
        }
      ]
    },
    {
      "cell_type": "code",
      "source": [
        "# Create and train the model\n",
        "# Features:\n",
        "X = df1.loc[:, ['Time']]\n",
        "# Target:\n",
        "y = df1.loc[:, 'close']\n",
        "\n",
        "lin_reg = LinearRegression().fit(X,y)"
      ],
      "metadata": {
        "id": "VPm3-xio7PuV"
      },
      "execution_count": 41,
      "outputs": []
    },
    {
      "cell_type": "code",
      "source": [
        "# print the intercept and the slope\n",
        "print('Intercept: ', lin_reg.intercept_)\n",
        "print('Slope: ', lin_reg.coef_)"
      ],
      "metadata": {
        "colab": {
          "base_uri": "https://localhost:8080/"
        },
        "id": "MZmNzuJIAdd4",
        "outputId": "ec41f1d7-baf1-4995-c106-b0b2f2db8181"
      },
      "execution_count": 42,
      "outputs": [
        {
          "output_type": "stream",
          "name": "stdout",
          "text": [
            "Intercept:  143.26591485148518\n",
            "Slope:  [-0.23367303]\n"
          ]
        }
      ]
    },
    {
      "cell_type": "code",
      "source": [
        "# Make prediction for the data\n",
        "# We will use the linear regression equation:\n",
        "# y = ax + b\n",
        "\n",
        "y_pred = lin_reg.coef_ * X + lin_reg.intercept_\n",
        "df1['Prediction'] = y_pred"
      ],
      "metadata": {
        "colab": {
          "base_uri": "https://localhost:8080/"
        },
        "id": "21Y6zfDFBO66",
        "outputId": "d1b799a2-7374-439d-e231-b0cec78f3ecb"
      },
      "execution_count": 43,
      "outputs": [
        {
          "output_type": "stream",
          "name": "stderr",
          "text": [
            "/usr/local/lib/python3.7/dist-packages/ipykernel_launcher.py:6: SettingWithCopyWarning: \n",
            "A value is trying to be set on a copy of a slice from a DataFrame.\n",
            "Try using .loc[row_indexer,col_indexer] = value instead\n",
            "\n",
            "See the caveats in the documentation: https://pandas.pydata.org/pandas-docs/stable/user_guide/indexing.html#returning-a-view-versus-a-copy\n",
            "  \n"
          ]
        }
      ]
    },
    {
      "cell_type": "code",
      "source": [
        "print(df1.Prediction)"
      ],
      "metadata": {
        "colab": {
          "base_uri": "https://localhost:8080/"
        },
        "id": "ElApFLh2DH9o",
        "outputId": "01bf52a4-70d6-4abd-c6d4-fd8d54f738a3"
      },
      "execution_count": 44,
      "outputs": [
        {
          "output_type": "stream",
          "name": "stdout",
          "text": [
            "timestamp\n",
            "2021-08-10    143.265915\n",
            "2021-08-11    143.032242\n",
            "2021-08-12    142.798569\n",
            "2021-08-13    142.564896\n",
            "2021-08-16    142.331223\n",
            "                 ...    \n",
            "2021-12-23    121.066977\n",
            "2021-12-27    120.833304\n",
            "2021-12-28    120.599631\n",
            "2021-12-29    120.365958\n",
            "2021-12-30    120.132285\n",
            "Name: Prediction, Length: 100, dtype: float64\n"
          ]
        }
      ]
    },
    {
      "cell_type": "code",
      "source": [
        "# Plot prediction and real value\n",
        "df1['Prediction'].plot()\n",
        "df1['close'].plot()\n",
        "plt.title('Close price history')"
      ],
      "metadata": {
        "colab": {
          "base_uri": "https://localhost:8080/",
          "height": 314
        },
        "id": "qN3sr0GdCx_-",
        "outputId": "1bd9f1f3-b3d1-4506-f67e-456691ce81cb"
      },
      "execution_count": 45,
      "outputs": [
        {
          "output_type": "execute_result",
          "data": {
            "text/plain": [
              "Text(0.5, 1.0, 'Close price history')"
            ]
          },
          "metadata": {},
          "execution_count": 45
        },
        {
          "output_type": "display_data",
          "data": {
            "image/png": "[encoded data removed]",
            "text/plain": [
              "<Figure size 432x288 with 1 Axes>"
            ]
          },
          "metadata": {
            "image/png": {
              "width": 424,
              "height": 280
            },
            "needs_background": "light"
          }
        }
      ]
    },
    {
      "cell_type": "code",
      "source": [
        "# Evaluating the model\n",
        "r2_score(df1['close'], df1['Prediction'])"
      ],
      "metadata": {
        "colab": {
          "base_uri": "https://localhost:8080/"
        },
        "id": "i6DzildVFAoi",
        "outputId": "c3119c23-d191-4084-841e-3ac85b6d4fb9"
      },
      "execution_count": 46,
      "outputs": [
        {
          "output_type": "execute_result",
          "data": {
            "text/plain": [
              "0.5400181860062155"
            ]
          },
          "metadata": {},
          "execution_count": 46
        }
      ]
    },
    {
      "cell_type": "code",
      "source": [
        "# Predict next day's price\n",
        "lin_reg.coef_ * len(df1) + 1 + lin_reg.intercept_"
      ],
      "metadata": {
        "colab": {
          "base_uri": "https://localhost:8080/"
        },
        "id": "rUVkLNROGMJo",
        "outputId": "8945e2a5-9804-451a-b952-d00d6c0b86d1"
      },
      "execution_count": 47,
      "outputs": [
        {
          "output_type": "execute_result",
          "data": {
            "text/plain": [
              "array([120.89861212])"
            ]
          },
          "metadata": {},
          "execution_count": 47
        }
      ]
    }
  ]
}